{
 "cells": [
  {
   "cell_type": "markdown",
   "source": [
    "# ReplyDB\n",
    "\n",
    "## Demo"
   ],
   "metadata": {
    "collapsed": false
   },
   "id": "1d41f75d173e21d9"
  },
  {
   "cell_type": "markdown",
   "id": "33b295d83d8b3534",
   "metadata": {
    "collapsed": false
   },
   "source": [
    "Load"
   ]
  },
  {
   "cell_type": "code",
   "execution_count": 1,
   "id": "8082b8feb4cc89ff",
   "metadata": {
    "collapsed": false,
    "ExecuteTime": {
     "end_time": "2024-07-21T14:21:36.381128Z",
     "start_time": "2024-07-21T14:21:36.126768Z"
    }
   },
   "outputs": [],
   "source": [
    "import ReplyDB\n",
    "db = ReplyDB.ReplyDB(\"demo.json\")"
   ]
  },
  {
   "cell_type": "markdown",
   "id": "49a580dbfc95ce24",
   "metadata": {
    "collapsed": false
   },
   "source": [
    "Insert one"
   ]
  },
  {
   "cell_type": "code",
   "execution_count": 2,
   "id": "afdaed59c45c7aa1",
   "metadata": {
    "collapsed": false,
    "ExecuteTime": {
     "end_time": "2024-07-21T14:21:36.387698Z",
     "start_time": "2024-07-21T14:21:36.382676Z"
    }
   },
   "outputs": [],
   "source": [
    "db.insert({\"content\": \"hello\", \"like\": 123})"
   ]
  },
  {
   "cell_type": "markdown",
   "id": "3f6fb86f8a1c6498",
   "metadata": {
    "collapsed": false
   },
   "source": [
    "Insert many"
   ]
  },
  {
   "cell_type": "code",
   "execution_count": 3,
   "id": "d23c51012201420c",
   "metadata": {
    "collapsed": false,
    "ExecuteTime": {
     "end_time": "2024-07-21T14:21:36.391520Z",
     "start_time": "2024-07-21T14:21:36.385838Z"
    }
   },
   "outputs": [],
   "source": [
    "db.insert([{\"content\": \"world\", \"like\": 456},\n",
    "           {\"content\": \"hello world\", \"like\": 789}])"
   ]
  },
  {
   "cell_type": "markdown",
   "id": "59c4f9f631bda5dc",
   "metadata": {
    "collapsed": false
   },
   "source": [
    "Find"
   ]
  },
  {
   "cell_type": "code",
   "execution_count": 4,
   "id": "2d9f2b1276673819",
   "metadata": {
    "collapsed": false,
    "ExecuteTime": {
     "end_time": "2024-07-21T14:21:36.396395Z",
     "start_time": "2024-07-21T14:21:36.390775Z"
    }
   },
   "outputs": [
    {
     "data": {
      "text/plain": "       content  like                                      _id\n1        world   456  206616897853783872023184516227026329565\n2  hello world   789  307828543622844906080186005962949347459",
      "text/html": "<div>\n<style scoped>\n    .dataframe tbody tr th:only-of-type {\n        vertical-align: middle;\n    }\n\n    .dataframe tbody tr th {\n        vertical-align: top;\n    }\n\n    .dataframe thead th {\n        text-align: right;\n    }\n</style>\n<table border=\"1\" class=\"dataframe\">\n  <thead>\n    <tr style=\"text-align: right;\">\n      <th></th>\n      <th>content</th>\n      <th>like</th>\n      <th>_id</th>\n    </tr>\n  </thead>\n  <tbody>\n    <tr>\n      <th>1</th>\n      <td>world</td>\n      <td>456</td>\n      <td>206616897853783872023184516227026329565</td>\n    </tr>\n    <tr>\n      <th>2</th>\n      <td>hello world</td>\n      <td>789</td>\n      <td>307828543622844906080186005962949347459</td>\n    </tr>\n  </tbody>\n</table>\n</div>"
     },
     "execution_count": 4,
     "metadata": {},
     "output_type": "execute_result"
    }
   ],
   "source": [
    "db.find(db[\"like\"] >= 200)"
   ]
  },
  {
   "cell_type": "code",
   "execution_count": 5,
   "id": "cc0d1ffc46f90a61",
   "metadata": {
    "collapsed": false,
    "ExecuteTime": {
     "end_time": "2024-07-21T14:21:36.404696Z",
     "start_time": "2024-07-21T14:21:36.399106Z"
    }
   },
   "outputs": [
    {
     "data": {
      "text/plain": "  content  like                                      _id\n0   hello   123  289287235188178513635637543502332994811",
      "text/html": "<div>\n<style scoped>\n    .dataframe tbody tr th:only-of-type {\n        vertical-align: middle;\n    }\n\n    .dataframe tbody tr th {\n        vertical-align: top;\n    }\n\n    .dataframe thead th {\n        text-align: right;\n    }\n</style>\n<table border=\"1\" class=\"dataframe\">\n  <thead>\n    <tr style=\"text-align: right;\">\n      <th></th>\n      <th>content</th>\n      <th>like</th>\n      <th>_id</th>\n    </tr>\n  </thead>\n  <tbody>\n    <tr>\n      <th>0</th>\n      <td>hello</td>\n      <td>123</td>\n      <td>289287235188178513635637543502332994811</td>\n    </tr>\n  </tbody>\n</table>\n</div>"
     },
     "execution_count": 5,
     "metadata": {},
     "output_type": "execute_result"
    }
   ],
   "source": [
    "db.find(db[\"content\"] == \"hello\")"
   ]
  },
  {
   "cell_type": "code",
   "execution_count": 6,
   "id": "f1dcffd0d457361f",
   "metadata": {
    "collapsed": false,
    "ExecuteTime": {
     "end_time": "2024-07-21T14:21:36.412557Z",
     "start_time": "2024-07-21T14:21:36.403362Z"
    }
   },
   "outputs": [
    {
     "data": {
      "text/plain": "Empty DataFrame\nColumns: [content, like, _id]\nIndex: []",
      "text/html": "<div>\n<style scoped>\n    .dataframe tbody tr th:only-of-type {\n        vertical-align: middle;\n    }\n\n    .dataframe tbody tr th {\n        vertical-align: top;\n    }\n\n    .dataframe thead th {\n        text-align: right;\n    }\n</style>\n<table border=\"1\" class=\"dataframe\">\n  <thead>\n    <tr style=\"text-align: right;\">\n      <th></th>\n      <th>content</th>\n      <th>like</th>\n      <th>_id</th>\n    </tr>\n  </thead>\n  <tbody>\n  </tbody>\n</table>\n</div>"
     },
     "execution_count": 6,
     "metadata": {},
     "output_type": "execute_result"
    }
   ],
   "source": [
    "db.find(db[\"content\"].str.match('regrex'))"
   ]
  },
  {
   "cell_type": "markdown",
   "id": "82f266836ec911e8",
   "metadata": {
    "collapsed": false
   },
   "source": [
    "Create search index"
   ]
  },
  {
   "cell_type": "code",
   "execution_count": 7,
   "id": "114e4724a8ec86b3",
   "metadata": {
    "collapsed": false,
    "ExecuteTime": {
     "end_time": "2024-07-21T14:21:36.448979Z",
     "start_time": "2024-07-21T14:21:36.405893Z"
    }
   },
   "outputs": [],
   "source": [
    "db.create_search_index(\"content\")"
   ]
  },
  {
   "cell_type": "markdown",
   "id": "b78dc01cc84ca35c",
   "metadata": {
    "collapsed": false
   },
   "source": [
    "Search"
   ]
  },
  {
   "cell_type": "code",
   "execution_count": 8,
   "id": "cb8ea07c2ee0a5ae",
   "metadata": {
    "collapsed": false,
    "ExecuteTime": {
     "end_time": "2024-07-21T14:21:36.525842Z",
     "start_time": "2024-07-21T14:21:36.418681Z"
    }
   },
   "outputs": [
    {
     "data": {
      "text/plain": "0    289287235188178513635637543502332994811\n1    307828543622844906080186005962949347459\ndtype: object"
     },
     "execution_count": 8,
     "metadata": {},
     "output_type": "execute_result"
    }
   ],
   "source": [
    "db.search(\"content\", \"hello\")"
   ]
  }
 ],
 "metadata": {
  "kernelspec": {
   "display_name": "Python 3 (ipykernel)",
   "language": "python",
   "name": "python3"
  },
  "language_info": {
   "codemirror_mode": {
    "name": "ipython",
    "version": 3
   },
   "file_extension": ".py",
   "mimetype": "text/x-python",
   "name": "python",
   "nbconvert_exporter": "python",
   "pygments_lexer": "ipython3",
   "version": "3.12.4"
  }
 },
 "nbformat": 4,
 "nbformat_minor": 5
}
