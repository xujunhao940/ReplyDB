{
 "cells": [
  {
   "cell_type": "code",
   "execution_count": 1,
   "id": "initial_id",
   "metadata": {
    "collapsed": true,
    "ExecuteTime": {
     "end_time": "2024-07-22T01:57:28.234337Z",
     "start_time": "2024-07-22T01:57:27.939089Z"
    }
   },
   "outputs": [],
   "source": [
    "from ReplyDB import ReplyDB\n",
    "db = ReplyDB(\"100,000rows.json\")"
   ]
  },
  {
   "cell_type": "code",
   "outputs": [],
   "source": [
    "import random\n",
    "names = [\n",
    "    \"Emma\", \"Olivia\", \"Lena\", \"Sarah\", \"Sophia\", \"Isabella\", \"Mia\", \"Charlotte\", \"Ava\", \"Emily\",\n",
    "    \"Ethan\", \"William\", \"Alexander\", \"Michael\", \"Daniel\", \"James\", \"Benjamin\", \"Bowery\", \"Oliver\", \"Lucas\",\n",
    "    \"Mia\", \"Harper\", \"Joe\", \"Chloe\", \"Grace\", \"Lily\", \"Ella\", \"Amelia\", \"Aubrey\", \"Hailey\",\n",
    "    \"Nolan\", \"Jacob\", \"Matthew\", \"Samuel\", \"David\", \"Joshua\", \"Logan\", \"Jackson\", \"Mason\", \"Luke\",\n",
    "    \"Aria\", \"Ellie\", \"Madison\", \"Addison\", \"Natalie\", \"Victoria\", \"Layla\", \"Evelyn\", \"Anna\", \"Sophia\",\n",
    "    \"Adam\", \"Dylan\", \"Jayden\", \"Sebastian\", \"Taylor\", \"Andrew\", \"Gavin\", \"Max\", \"Ryan\", \"Christian\"\n",
    "]"
   ],
   "metadata": {
    "collapsed": false,
    "ExecuteTime": {
     "end_time": "2024-07-22T01:57:28.243290Z",
     "start_time": "2024-07-22T01:57:28.235940Z"
    }
   },
   "id": "97bfd2429b5b2633",
   "execution_count": 2
  },
  {
   "cell_type": "code",
   "outputs": [],
   "source": [
    "db.insert([{\n",
    "    \"content\": \"hello \"+random.choice(names),\n",
    "    \"like\": random.randint(0,1000)\n",
    "  } for i in range(100000)])"
   ],
   "metadata": {
    "collapsed": false,
    "ExecuteTime": {
     "end_time": "2024-07-22T01:57:28.753910Z",
     "start_time": "2024-07-22T01:57:28.237958Z"
    }
   },
   "id": "7e0a494bb587149c",
   "execution_count": 3
  },
  {
   "cell_type": "code",
   "outputs": [
    {
     "data": {
      "text/plain": "            content  like                                      _id\n2       hello Mason   560  170842851000637900082872582585827278396\n3       hello Sarah   795  159688017136178201987221996873114637933\n4      hello Aubrey   705  263209035999004275841546552770139323714\n5       hello James   527   72108764089579667192198966214772926001\n6        hello Lena   626  106209173551098257477965148000028188285\n...             ...   ...                                      ...\n99995     hello Mia   896  141732483170101536236934681051737346124\n99996  hello Amelia   685  292322224146788852447653118295859841484\n99997   hello Ethan   655   14138505836724443048154966913151829980\n99998     hello Max   711  339693399712523066455529127230029048484\n99999     hello Mia   704   37884926855528011006491949519357253846\n\n[49963 rows x 3 columns]",
      "text/html": "<div>\n<style scoped>\n    .dataframe tbody tr th:only-of-type {\n        vertical-align: middle;\n    }\n\n    .dataframe tbody tr th {\n        vertical-align: top;\n    }\n\n    .dataframe thead th {\n        text-align: right;\n    }\n</style>\n<table border=\"1\" class=\"dataframe\">\n  <thead>\n    <tr style=\"text-align: right;\">\n      <th></th>\n      <th>content</th>\n      <th>like</th>\n      <th>_id</th>\n    </tr>\n  </thead>\n  <tbody>\n    <tr>\n      <th>2</th>\n      <td>hello Mason</td>\n      <td>560</td>\n      <td>170842851000637900082872582585827278396</td>\n    </tr>\n    <tr>\n      <th>3</th>\n      <td>hello Sarah</td>\n      <td>795</td>\n      <td>159688017136178201987221996873114637933</td>\n    </tr>\n    <tr>\n      <th>4</th>\n      <td>hello Aubrey</td>\n      <td>705</td>\n      <td>263209035999004275841546552770139323714</td>\n    </tr>\n    <tr>\n      <th>5</th>\n      <td>hello James</td>\n      <td>527</td>\n      <td>72108764089579667192198966214772926001</td>\n    </tr>\n    <tr>\n      <th>6</th>\n      <td>hello Lena</td>\n      <td>626</td>\n      <td>106209173551098257477965148000028188285</td>\n    </tr>\n    <tr>\n      <th>...</th>\n      <td>...</td>\n      <td>...</td>\n      <td>...</td>\n    </tr>\n    <tr>\n      <th>99995</th>\n      <td>hello Mia</td>\n      <td>896</td>\n      <td>141732483170101536236934681051737346124</td>\n    </tr>\n    <tr>\n      <th>99996</th>\n      <td>hello Amelia</td>\n      <td>685</td>\n      <td>292322224146788852447653118295859841484</td>\n    </tr>\n    <tr>\n      <th>99997</th>\n      <td>hello Ethan</td>\n      <td>655</td>\n      <td>14138505836724443048154966913151829980</td>\n    </tr>\n    <tr>\n      <th>99998</th>\n      <td>hello Max</td>\n      <td>711</td>\n      <td>339693399712523066455529127230029048484</td>\n    </tr>\n    <tr>\n      <th>99999</th>\n      <td>hello Mia</td>\n      <td>704</td>\n      <td>37884926855528011006491949519357253846</td>\n    </tr>\n  </tbody>\n</table>\n<p>49963 rows × 3 columns</p>\n</div>"
     },
     "execution_count": 4,
     "metadata": {},
     "output_type": "execute_result"
    }
   ],
   "source": [
    "db.find(db[\"like\"]>=500)"
   ],
   "metadata": {
    "collapsed": false,
    "ExecuteTime": {
     "end_time": "2024-07-22T01:57:28.765193Z",
     "start_time": "2024-07-22T01:57:28.754469Z"
    }
   },
   "id": "1a8703c314f545b5",
   "execution_count": 4
  },
  {
   "cell_type": "code",
   "outputs": [],
   "source": [
    "db.create_search_index(\"content\")"
   ],
   "metadata": {
    "collapsed": false,
    "ExecuteTime": {
     "end_time": "2024-07-22T01:57:34.424055Z",
     "start_time": "2024-07-22T01:57:28.764625Z"
    }
   },
   "id": "66d199e3ddec0cc1",
   "execution_count": 5
  },
  {
   "cell_type": "code",
   "outputs": [
    {
     "data": {
      "text/plain": "0    155382818801529477488570841723171197593\n1     26343981731024095212530239768203489457\n2    156451276446102706709782884838479906488\n3     63948094261195295027251773509421382351\n4    161907994363823033262495869311251750441\n5    131824488163137319593005605954930410335\n6    147496414709757121822664766675554123545\n7     75571059954552487175573703527929637836\n8    298753587122813619035335141422737314263\n9    108928429366087253998507963345022165413\ndtype: object"
     },
     "execution_count": 6,
     "metadata": {},
     "output_type": "execute_result"
    }
   ],
   "source": [
    "db.search(\"content\",\"Bowery\")"
   ],
   "metadata": {
    "collapsed": false,
    "ExecuteTime": {
     "end_time": "2024-07-22T01:57:34.462774Z",
     "start_time": "2024-07-22T01:57:34.424877Z"
    }
   },
   "id": "8af6bc4467eec5ac",
   "execution_count": 6
  },
  {
   "cell_type": "code",
   "outputs": [],
   "source": [],
   "metadata": {
    "collapsed": false,
    "ExecuteTime": {
     "end_time": "2024-07-22T01:57:34.463064Z",
     "start_time": "2024-07-22T01:57:34.451954Z"
    }
   },
   "id": "f5dc6b0e5f49f3d0",
   "execution_count": 6
  }
 ],
 "metadata": {
  "kernelspec": {
   "display_name": "Python 3",
   "language": "python",
   "name": "python3"
  },
  "language_info": {
   "codemirror_mode": {
    "name": "ipython",
    "version": 2
   },
   "file_extension": ".py",
   "mimetype": "text/x-python",
   "name": "python",
   "nbconvert_exporter": "python",
   "pygments_lexer": "ipython2",
   "version": "2.7.6"
  }
 },
 "nbformat": 4,
 "nbformat_minor": 5
}
